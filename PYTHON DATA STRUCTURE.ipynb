{
 "cells": [
  {
   "cell_type": "markdown",
   "id": "8a9a12a9",
   "metadata": {},
   "source": [
    "THEORY ANSWERS"
   ]
  },
  {
   "cell_type": "markdown",
   "id": "37b10841",
   "metadata": {},
   "source": [
    "Q.1 What are data structures, and why are they important?\n",
    "\n",
    "ANS. A data structure is a systematic way of organizing, storing, and managing data in a computer so that it can be used efficiently. In simple words, it’s like a container that holds data in a particular layout, making it easier to perform operations such as searching, inserting, deleting, or updating.\n",
    "\n",
    "Efficiency – Choosing the right data structure can make programs run faster and use less memory.\n",
    "\n",
    "Example: Using a hash table makes lookups faster compared to a list.\n",
    "\n",
    "Reusability – Many data structures are standard and can be reused in different programs.\n",
    "\n",
    "Abstraction – They allow programmers to handle complex data logically without focusing too much on low-level details.\n",
    "\n",
    "Problem Solving – Many real-world problems (like route finding in Google Maps, database indexing, or job scheduling) are solved efficiently with proper data structures.\n",
    "\n",
    "Foundation for Algorithms – Most algorithms (sorting, searching, graph traversal, etc.) depend heavily on data structures."
   ]
  },
  {
   "cell_type": "markdown",
   "id": "e7f1a1fc",
   "metadata": {},
   "source": [
    "Q.2 Explain the difference between mutable and immutable data types with examples ?\n",
    "\n",
    "ANS. In Python, **mutable data types** are those whose values can be **changed or modified** after they are created, while **immutable data types** cannot be altered once created. Mutable types allow in-place updates, additions, or deletions, making them suitable for situations where the data needs to be frequently modified. Examples of mutable types include **lists**, **dictionaries**, and **sets**. For instance, in a list `numbers = [1, 2, 3]`, you can change an element like `numbers[0] = 100`, and the list updates in place. In contrast, immutable types provide **data stability and integrity**, ensuring that the value remains constant throughout the program. Examples of immutable types include **strings**, **tuples**, and **numbers (int, float, etc.)**. For example, if you have a string `text = \"hello\"`, attempting to modify a character like `text[0] = \"H\"` would result in an error; instead, operations like concatenation create a **new string**. In short, mutable types are flexible and changeable, while immutable types are fixed and safer for maintaining consistent data.\n",
    "\n"
   ]
  },
  {
   "cell_type": "markdown",
   "id": "c848e3ad",
   "metadata": {},
   "source": [
    "Q.3 What are the main differences between lists and tuples in Python? \n",
    "\n",
    "ANS. In Python, **lists** and **tuples** are both sequence data types that can store collections of items, but they differ primarily in **mutability, performance, and usage**. Lists are **mutable**, meaning their elements can be modified, added, or removed after creation, making them ideal for dynamic collections where changes are frequent. They are defined using square brackets, e.g., `[1, 2, 3]`, and provide a wide range of methods like `append()`, `remove()`, and `sort()`. Tuples, on the other hand, are **immutable**, meaning once created, their elements cannot be altered. They are defined using parentheses, e.g., `(1, 2, 3)`, and have fewer built-in methods, mainly `count()` and `index()`. Because of their immutability, tuples are **faster and more memory-efficient** than lists and can be used as keys in dictionaries or elements in sets, whereas lists cannot. In practice, lists are preferred for collections that require frequent modification, while tuples are suitable for **fixed collections of data** where integrity and performance are important.\n",
    "\n",
    "\n"
   ]
  },
  {
   "cell_type": "markdown",
   "id": "8cfa663a",
   "metadata": {},
   "source": [
    "Q.4  Describe how dictionaries store data?\n",
    "\n",
    "ANS. A dictionary in Python stores data as key–value pairs."
   ]
  },
  {
   "cell_type": "markdown",
   "id": "a31698fd",
   "metadata": {},
   "source": [
    "Q.5 Why might you use a set instead of a list in Python?\n",
    "\n",
    "ANS. 1. Uniqueness of Elements\n",
    "A set automatically removes duplicates.\n",
    "A list allows duplicates.\n",
    "\n",
    "2. Faster Membership Testing\n",
    "Checking if something exists in a set is very fast (O(1) average time) because sets use hash tables.\n",
    "In a list, membership check takes longer (O(n)) because it scans through all elements.\n",
    "\n",
    "3. When Order Doesn’t Matter\n",
    "Sets are unordered (no fixed sequence).\n",
    "ists are ordered (elements keep their position).\n",
    "If order is not important, sets are a good choice."
   ]
  },
  {
   "cell_type": "markdown",
   "id": "9c1c8a4b",
   "metadata": {},
   "source": [
    "Q.6 What is a string in Python, and how is it different from a list?\n",
    "\n",
    "ANS. A string is a sequence of characters enclosed in quotes (' ' or \" \").\n",
    "\n",
    "Example: \"hello\" → sequence of characters: 'h', 'e', 'l', 'l', 'o'.\n",
    "\n",
    "Strings are immutable, meaning once created, they cannot be changed.\n",
    "| Feature               | **String**                                                       | **List**                                                      |\n",
    "| --------------------- | ---------------------------------------------------------------- | ------------------------------------------------------------- |\n",
    "| **Definition**        | Sequence of characters                                           | Sequence of elements (any data type)                          |\n",
    "| **Data Type**         | Homogeneous (only characters)                                    | Heterogeneous (can hold mixed types)                          |\n",
    "| **Mutability**        | ❌ Immutable (cannot be changed once created)                     | ✅ Mutable (elements can be changed)                           |\n",
    "| **Use Case**          | Textual data (words, sentences, messages)                        | Collections of items (numbers, objects, etc.)                 |\n",
    "| **Methods Available** | Many string-specific methods (`upper()`, `split()`, `replace()`) | Many list-specific methods (`append()`, `remove()`, `sort()`) |\n",
    "| **Representation**    | Written inside quotes `\" \"` or `' '`                             | Written inside square brackets `[ ]`                          |\n"
   ]
  },
  {
   "cell_type": "markdown",
   "id": "d90a0e17",
   "metadata": {},
   "source": [
    "Q.7  How do tuples ensure data integrity in Python?\n",
    "\n",
    "ANS. In Python, tuples help ensure data integrity because they are immutable, meaning once a tuple is created, its elements cannot be changed, added, or removed. This immutability guarantees that the data stored in a tuple will remain consistent throughout the program, protecting it from accidental modifications. For example, if you store fixed information such as geographic coordinates, dates, or configuration settings in a tuple, you can be confident that these values will not be altered during execution. Additionally, because tuples are hashable (when containing only immutable elements), they can be used as keys in dictionaries or as elements in sets, further supporting reliable and consistent data management. In short, tuples provide a secure way of storing constant data, ensuring stability and integrity in applications where preserving the original information is crucial."
   ]
  },
  {
   "cell_type": "markdown",
   "id": "6a334308",
   "metadata": {},
   "source": [
    "Q.8 What is a hash table, and how does it relate to dictionaries in Python?\n",
    "\n",
    "ANS. A hash table is a data structure that stores data in key–value pairs and uses a hashing function to map each key to a specific memory location, called a bucket or slot. The hash function converts the key into a hash value (an integer), which determines where the associated value is stored. This makes operations like insertion, deletion, and lookup very fast, usually in constant time O(1). In Python, dictionaries are implemented using hash tables. When you create a dictionary and store a key–value pair, Python hashes the key, finds the appropriate slot in the hash table, and places the value there. Later, when you access the dictionary using that key, Python hashes the key again and retrieves the value directly from the mapped slot, without scanning all entries. This is why dictionaries in Python allow for quick lookups, insertions, and deletions, and why keys must be immutable (so their hash values remain consistent)."
   ]
  },
  {
   "cell_type": "markdown",
   "id": "0d10a1f7",
   "metadata": {},
   "source": [
    "Q.9 Can lists contain different data types in Python?\n",
    "\n",
    "ANS. es, lists in Python can contain different data types because Python is a dynamically typed language. A single list can store integers, floats, strings, booleans, objects, or even other lists as its elements. For example, a list like [10, \"hello\", 3.14, True, [1, 2, 3]] is perfectly valid in Python. This flexibility makes lists very powerful for handling mixed collections of data without needing to define a fixed type for the elements. However, while lists can hold heterogeneous data, this can sometimes reduce efficiency compared to lists with uniform data types, since operations may need to account for the differences in types."
   ]
  },
  {
   "cell_type": "markdown",
   "id": "f19243e2",
   "metadata": {},
   "source": [
    "Q.10 Explain why strings are immutable in Python?\n",
    "\n",
    "ANS. trings in Python are immutable because once a string object is created, its contents cannot be changed. This design choice ensures data consistency, security, and efficiency. Since strings are used frequently (for example, as keys in dictionaries or for text processing), immutability guarantees that their hash values remain constant, making them reliable for use in hash-based data structures. It also allows Python to optimize memory usage through techniques like string interning, where identical strings are stored only once in memory and shared across references. By preventing in-place modifications, immutability also avoids accidental data changes, making programs safer and easier to debug. Instead of altering the original string, any operation that seems to \"modify\" a string actually creates a new string object, leaving the original unchanged."
   ]
  },
  {
   "cell_type": "markdown",
   "id": "af22f9c9",
   "metadata": {},
   "source": [
    "Q.11 What advantages do dictionaries offer over lists for certain tasks?\n",
    "\n",
    "ANS. Dictionaries offer several advantages over lists for certain tasks because they store data as key–value pairs rather than a simple sequence of elements. This structure allows for fast and direct access to values using keys, typically in constant time O(1), whereas searching for an item in a list may require scanning each element sequentially, taking linear time O(n). Dictionaries are particularly useful when you need to associate related pieces of information, such as storing a person’s age, address, and phone number under their name as the key. They also prevent the need for maintaining indexes manually, allow for efficient updates and deletions, and can use immutable objects as keys to ensure reliable access. Overall, dictionaries provide superior performance and clarity for tasks that involve mapping, lookup, or organizing data by unique identifiers, making them more suitable than lists for these purposes."
   ]
  },
  {
   "cell_type": "markdown",
   "id": "5c1294b7",
   "metadata": {},
   "source": [
    "Q.12 Describe a scenario where using a tuple would be preferable over a list?\n",
    "\n",
    "ANS. A scenario where using a tuple would be preferable over a list is when you need to store **fixed, constant data that should not change throughout the program**. For example, if you are working with **geographic coordinates**, such as the latitude and longitude of a city, a tuple ensures that these values remain consistent and cannot be accidentally modified. Tuples are also ideal when storing data that needs to be **hashable**, such as using a pair of coordinates as a key in a dictionary or as an element in a set. Their immutability provides **data integrity and safety**, making them suitable for scenarios where stability is critical, whereas using a list in such cases could risk unintentional modifications.\n"
   ]
  },
  {
   "cell_type": "markdown",
   "id": "57984e9a",
   "metadata": {},
   "source": [
    "Q.13 How do sets handle duplicate values in Python?\n",
    "\n",
    "ANS. In Python, sets automatically handle duplicate values by removing them, ensuring that each element in the set is unique. When you try to add a value that already exists in a set, Python ignores it instead of creating a duplicate entry. This behavior is due to the way sets are implemented using hash tables, where each element is stored based on its hash value. If a new element has the same hash as an existing one, the set recognizes it as already present and does not add it again. This makes sets particularly useful for tasks that require uniqueness, such as removing duplicates from a collection, tracking distinct items, or performing mathematical set operations like union, intersection, and difference."
   ]
  },
  {
   "cell_type": "markdown",
   "id": "116755d0",
   "metadata": {},
   "source": [
    "Q.14 How does the “in” keyword work differently for lists and dictionaries?\n",
    "\n",
    "ANS. The `in` keyword in Python is used to check for **membership**, but it behaves differently for **lists** and **dictionaries** due to their underlying structures.\n",
    "\n",
    "For **lists**, `in` checks whether a value exists **among the elements**. Since lists are ordered sequences, Python scans each element one by one until it finds a match, resulting in **linear time complexity (O(n))**.\n",
    "\n",
    "```python\n",
    "my_list = [10, 20, 30]\n",
    "print(20 in my_list)  # True\n",
    "```\n",
    "\n",
    "For **dictionaries**, `in` checks whether a value exists **as a key**, not as a value. Dictionaries are implemented using **hash tables**, so Python uses the hash of the key to directly locate it in memory, making the lookup **very fast (average O(1) time)**.\n",
    "\n",
    "```python\n",
    "my_dict = {\"a\": 1, \"b\": 2}\n",
    "print(\"a\" in my_dict)  # True\n",
    "print(1 in my_dict)    # False, checks keys only\n",
    "```\n",
    "\n",
    "✅ **In short:**\n",
    "\n",
    "* **List:** `in` searches elements sequentially → slower for large lists.\n",
    "* **Dictionary:** `in` searches keys using hashing → very fast, ignores values unless explicitly checked.\n"
   ]
  },
  {
   "cell_type": "markdown",
   "id": "28398cb4",
   "metadata": {},
   "source": [
    "Q.15 Can you modify the elements of a tuple? Explain why or why not?\n",
    "\n",
    "ANS. No, you cannot modify the elements of a tuple in Python because tuples are immutable. Once a tuple is created, its size and content are fixed, and any attempt to change, add, or remove elements will result in an error. This immutability ensures data integrity, meaning the values stored in the tuple remain constant throughout the program, which is especially useful when the tuple is used as a key in a dictionary or as an element in a set. Unlike lists, which are mutable and allow in-place modifications, tuples do not provide methods for altering their contents, so any operation that seems to \"change\" a tuple—such as concatenation or slicing—actually creates a new tuple rather than modifying the original. This design makes tuples safer for storing fixed collections of data that should not be accidentally altered."
   ]
  },
  {
   "cell_type": "markdown",
   "id": "7416ec76",
   "metadata": {},
   "source": [
    "Q.16 What is a nested dictionary, and give an example of its use case?\n",
    "\n",
    "ANS. A **nested dictionary** in Python is a dictionary that contains **another dictionary (or dictionaries) as its values**, allowing you to store structured, hierarchical data. This is useful for representing complex relationships where each key maps to multiple attributes. For example, a nested dictionary can be used to store information about students and their details:\n",
    "\n",
    "```python\n",
    "students = {\n",
    "    \"101\": {\"name\": \"Alice\", \"age\": 20, \"grade\": \"A\"},\n",
    "    \"102\": {\"name\": \"Bob\", \"age\": 21, \"grade\": \"B\"},\n",
    "    \"103\": {\"name\": \"Charlie\", \"age\": 19, \"grade\": \"A\"}\n",
    "}\n",
    "```\n",
    "\n",
    "In this case, each student ID is a key, and the value is another dictionary containing the student's **name, age, and grade**. Nested dictionaries are particularly useful in scenarios like **storing JSON-like data**, managing **configurations**, or representing **hierarchical structures** such as organizations or categories with subcategories. They allow you to **organize related data logically** and access it efficiently using multiple keys.\n"
   ]
  },
  {
   "cell_type": "markdown",
   "id": "8ae7630c",
   "metadata": {},
   "source": [
    "Q.17 Describe the time complexity of accessing elements in a dictionary?\n",
    "\n",
    "ANS. Accessing elements in a Python dictionary is extremely efficient because dictionaries are implemented using **hash tables**. When you use a key to retrieve a value, Python first applies a **hash function** to the key to calculate its hash value, which determines the location (or bucket) in memory where the corresponding value is stored. This allows Python to directly access the value **without scanning through all elements**, resulting in an average **time complexity of O(1)**, or constant time. However, in rare cases of **hash collisions**, where two different keys hash to the same bucket, Python may need to resolve the collision, which can slightly increase access time. Despite this, dictionary lookups remain much faster than searching through a list, especially as the size of the data grows.\n",
    " "
   ]
  },
  {
   "cell_type": "markdown",
   "id": "fc336568",
   "metadata": {},
   "source": [
    "Q.18 In what situations are lists preferred over dictionaries?\n",
    "\n",
    "ANS. Lists are preferred over dictionaries in situations where the order of elements matters, when you need to store a simple collection of items without requiring unique keys, or when the data will be accessed primarily by **position or index** rather than by a specific key. For example, if you are maintaining a sequence of daily temperatures, a list allows you to easily iterate through the values in order or access the nth day’s temperature using its index. Lists are also suitable when the dataset is small or when you need to perform operations like sorting, slicing, or appending elements frequently. Unlike dictionaries, which excel at key-based lookups, lists provide a straightforward, ordered structure that is ideal for **sequential processing** or when the overhead of key management is unnecessary.\n"
   ]
  },
  {
   "cell_type": "markdown",
   "id": "247b22bd",
   "metadata": {},
   "source": [
    "Q.19 Why are dictionaries considered unordered, and how does that affect data retrieval?\n",
    "\n",
    "ANS. Dictionaries in Python are considered **unordered** (at least in versions before Python 3.7) because the elements are stored based on **hash values of their keys**, rather than in the sequence they were added. This means there is no inherent order to the key–value pairs, and you cannot rely on the items appearing in a specific sequence when iterating over the dictionary. As a result, data retrieval is done **directly via keys** rather than by position, which is why dictionaries provide **fast lookups (O(1) time complexity)** but do not support index-based access like lists. In modern Python versions (3.7 and later), dictionaries **preserve insertion order**, but the underlying mechanism is still hash-based, so the primary way to retrieve values efficiently remains key-based rather than positional. This unordered nature emphasizes that dictionaries are optimized for **associative mapping** rather than sequential access.\n"
   ]
  },
  {
   "cell_type": "markdown",
   "id": "3d7300fe",
   "metadata": {},
   "source": [
    "Q.20  Explain the difference between a list and a dictionary in terms of data retrieval.\n",
    "\n",
    "ANS. The key difference between a list and a dictionary in terms of data retrieval lies in **how elements are accessed**. In a **list**, elements are retrieved by their **index position**, which requires the programmer to know or determine the position of the item; searching for a specific value in an unsorted list may require scanning through the entire list, resulting in **linear time complexity (O(n))**. In contrast, a **dictionary** retrieves values using **keys**, which are mapped to memory locations through a hash function. This allows Python to directly access the value associated with a key in **constant time (O(1))** on average, making lookups much faster and independent of the dictionary’s size. Essentially, lists are ideal for **ordered, sequential access**, while dictionaries excel at **fast, key-based retrieval**.\n"
   ]
  },
  {
   "cell_type": "markdown",
   "id": "d2b0a724",
   "metadata": {},
   "source": [
    "PRACTICAL ANSWERS"
   ]
  },
  {
   "cell_type": "markdown",
   "id": "c20a22aa",
   "metadata": {},
   "source": [
    "Q.1 Write a code to create a string with your name and print it\n"
   ]
  },
  {
   "cell_type": "code",
   "execution_count": 1,
   "id": "7866f118",
   "metadata": {},
   "outputs": [
    {
     "name": "stdout",
     "output_type": "stream",
     "text": [
      "Pratham Arora\n"
     ]
    }
   ],
   "source": [
    "# Creating a string with your name\n",
    "name = \"Pratham Arora\"\n",
    "\n",
    "# Printing the string\n",
    "print(name)\n"
   ]
  },
  {
   "cell_type": "markdown",
   "id": "7429cb54",
   "metadata": {},
   "source": [
    "Q.2 Write a code to find the length of the string \"Hello World\""
   ]
  },
  {
   "cell_type": "code",
   "execution_count": 2,
   "id": "f1c31474",
   "metadata": {},
   "outputs": [
    {
     "name": "stdout",
     "output_type": "stream",
     "text": [
      "Length of the string: 11\n"
     ]
    }
   ],
   "source": [
    "# Define the string\n",
    "text = \"Hello World\"\n",
    "\n",
    "# Find the length using len() function\n",
    "length = len(text)\n",
    "\n",
    "# Print the length\n",
    "print(\"Length of the string:\", length)\n"
   ]
  },
  {
   "cell_type": "markdown",
   "id": "749e7ae3",
   "metadata": {},
   "source": [
    "Q.3 Write a code to slice the first 3 characters from the string \"Python Programming\""
   ]
  },
  {
   "cell_type": "code",
   "execution_count": 3,
   "id": "98bfa758",
   "metadata": {},
   "outputs": [
    {
     "name": "stdout",
     "output_type": "stream",
     "text": [
      "First 3 characters: Pyt\n"
     ]
    }
   ],
   "source": [
    "# Define the string\n",
    "text = \"Python Programming\"\n",
    "\n",
    "# Slice the first 3 characters\n",
    "first_three = text[:3]\n",
    "\n",
    "# Print the result\n",
    "print(\"First 3 characters:\", first_three)\n"
   ]
  },
  {
   "cell_type": "markdown",
   "id": "8de73082",
   "metadata": {},
   "source": [
    "Q.4 Write a code to convert the string \"hello\" to uppercase"
   ]
  },
  {
   "cell_type": "code",
   "execution_count": 4,
   "id": "e044e76b",
   "metadata": {},
   "outputs": [
    {
     "name": "stdout",
     "output_type": "stream",
     "text": [
      "HELLO\n"
     ]
    }
   ],
   "source": [
    "# Define the string\n",
    "text = \"hello\"\n",
    "\n",
    "# Convert to uppercase\n",
    "upper_text = text.upper()\n",
    "\n",
    "# Print the result\n",
    "print(upper_text)\n"
   ]
  },
  {
   "cell_type": "markdown",
   "id": "16db4307",
   "metadata": {},
   "source": [
    "Q.5 Write a code to replace the word \"apple\" with \"orange\" in the string \"I like apple\""
   ]
  },
  {
   "cell_type": "code",
   "execution_count": 5,
   "id": "badc2b92",
   "metadata": {},
   "outputs": [
    {
     "name": "stdout",
     "output_type": "stream",
     "text": [
      "I like orange\n"
     ]
    }
   ],
   "source": [
    "# Define the string\n",
    "text = \"I like apple\"\n",
    "\n",
    "# Replace \"apple\" with \"orange\"\n",
    "new_text = text.replace(\"apple\", \"orange\")\n",
    "\n",
    "# Print the result\n",
    "print(new_text)\n"
   ]
  },
  {
   "cell_type": "markdown",
   "id": "3f458c0d",
   "metadata": {},
   "source": [
    "Q.6 Write a code to create a list with numbers 1 to 5 and print it"
   ]
  },
  {
   "cell_type": "code",
   "execution_count": 6,
   "id": "6db98778",
   "metadata": {},
   "outputs": [
    {
     "name": "stdout",
     "output_type": "stream",
     "text": [
      "[1, 2, 3, 4, 5]\n"
     ]
    }
   ],
   "source": [
    "# Create a list with numbers 1 to 5\n",
    "numbers = [1, 2, 3, 4, 5]\n",
    "\n",
    "# Print the list\n",
    "print(numbers)\n"
   ]
  },
  {
   "cell_type": "markdown",
   "id": "06c4b584",
   "metadata": {},
   "source": [
    "Q.7 Write a code to append the number 10 to the list [1, 2, 3, 4]"
   ]
  },
  {
   "cell_type": "code",
   "execution_count": 7,
   "id": "8febcddb",
   "metadata": {},
   "outputs": [
    {
     "name": "stdout",
     "output_type": "stream",
     "text": [
      "[1, 2, 3, 4, 10]\n"
     ]
    }
   ],
   "source": [
    "# Define the list\n",
    "numbers = [1, 2, 3, 4]\n",
    "\n",
    "# Append 10 to the list\n",
    "numbers.append(10)\n",
    "\n",
    "# Print the updated list\n",
    "print(numbers)\n"
   ]
  },
  {
   "cell_type": "markdown",
   "id": "4f841d3d",
   "metadata": {},
   "source": [
    "Q.8 Write a code to remove the number 3 from the list [1, 2, 3, 4, 5]"
   ]
  },
  {
   "cell_type": "code",
   "execution_count": 8,
   "id": "312a75a1",
   "metadata": {},
   "outputs": [
    {
     "name": "stdout",
     "output_type": "stream",
     "text": [
      "[1, 2, 4, 5]\n"
     ]
    }
   ],
   "source": [
    "# Define the list\n",
    "numbers = [1, 2, 3, 4, 5]\n",
    "\n",
    "# Remove the number 3\n",
    "numbers.remove(3)\n",
    "\n",
    "# Print the updated list\n",
    "print(numbers)\n"
   ]
  },
  {
   "cell_type": "markdown",
   "id": "2cc50e50",
   "metadata": {},
   "source": [
    "Q.9 Write a code to access the second element in the list ['a', 'b', 'c', 'd']"
   ]
  },
  {
   "cell_type": "code",
   "execution_count": 9,
   "id": "46eacbdb",
   "metadata": {},
   "outputs": [
    {
     "name": "stdout",
     "output_type": "stream",
     "text": [
      "b\n"
     ]
    }
   ],
   "source": [
    "# Define the list\n",
    "letters = ['a', 'b', 'c', 'd']\n",
    "\n",
    "# Access the second element (index 1)\n",
    "second_element = letters[1]\n",
    "\n",
    "# Print the second element\n",
    "print(second_element)\n"
   ]
  },
  {
   "cell_type": "markdown",
   "id": "af218fb6",
   "metadata": {},
   "source": [
    "Q.10 Write a code to reverse the list [10, 20, 30, 40, 50]"
   ]
  },
  {
   "cell_type": "code",
   "execution_count": 10,
   "id": "f04ab64d",
   "metadata": {},
   "outputs": [
    {
     "name": "stdout",
     "output_type": "stream",
     "text": [
      "[50, 40, 30, 20, 10]\n"
     ]
    }
   ],
   "source": [
    "# Define the list\n",
    "numbers = [10, 20, 30, 40, 50]\n",
    "\n",
    "# Reverse the list\n",
    "numbers.reverse()\n",
    "\n",
    "# Print the reversed list\n",
    "print(numbers)\n"
   ]
  },
  {
   "cell_type": "markdown",
   "id": "19c212ac",
   "metadata": {},
   "source": [
    "Q.11  Write a code to create a tuple with the elements 100, 200, 300 and print it."
   ]
  },
  {
   "cell_type": "code",
   "execution_count": 11,
   "id": "5e5ed1a2",
   "metadata": {},
   "outputs": [
    {
     "name": "stdout",
     "output_type": "stream",
     "text": [
      "(100, 200, 300)\n"
     ]
    }
   ],
   "source": [
    "# Create a tuple\n",
    "numbers = (100, 200, 300)\n",
    "\n",
    "# Print the tuple\n",
    "print(numbers)\n"
   ]
  },
  {
   "cell_type": "markdown",
   "id": "bf74add3",
   "metadata": {},
   "source": [
    "Q.12 Write a code to access the second-to-last element of the tuple ('red', 'green', 'blue', 'yellow')."
   ]
  },
  {
   "cell_type": "code",
   "execution_count": 12,
   "id": "04a481a6",
   "metadata": {},
   "outputs": [
    {
     "name": "stdout",
     "output_type": "stream",
     "text": [
      "blue\n"
     ]
    }
   ],
   "source": [
    "# Define the tuple\n",
    "colors = ('red', 'green', 'blue', 'yellow')\n",
    "\n",
    "# Access the second-to-last element using negative indexing\n",
    "second_to_last = colors[-2]\n",
    "\n",
    "# Print the result\n",
    "print(second_to_last)\n"
   ]
  },
  {
   "cell_type": "markdown",
   "id": "462db98c",
   "metadata": {},
   "source": [
    "Q.13 Write a code to find the minimum number in the tuple (10, 20, 5, 15)."
   ]
  },
  {
   "cell_type": "code",
   "execution_count": 13,
   "id": "1a813cc4",
   "metadata": {},
   "outputs": [
    {
     "name": "stdout",
     "output_type": "stream",
     "text": [
      "Minimum number: 5\n"
     ]
    }
   ],
   "source": [
    "# Define the tuple\n",
    "numbers = (10, 20, 5, 15)\n",
    "\n",
    "# Find the minimum number using min() function\n",
    "minimum_number = min(numbers)\n",
    "\n",
    "# Print the result\n",
    "print(\"Minimum number:\", minimum_number)\n"
   ]
  },
  {
   "cell_type": "markdown",
   "id": "14983a77",
   "metadata": {},
   "source": [
    "Q.14 Write a code to find the index of the element \"cat\" in the tuple ('dog', 'cat', 'rabbit')."
   ]
  },
  {
   "cell_type": "code",
   "execution_count": 14,
   "id": "9362d5a2",
   "metadata": {},
   "outputs": [
    {
     "name": "stdout",
     "output_type": "stream",
     "text": [
      "Index of 'cat': 1\n"
     ]
    }
   ],
   "source": [
    "# Define the tuple\n",
    "animals = ('dog', 'cat', 'rabbit')\n",
    "\n",
    "# Find the index of \"cat\"\n",
    "index_of_cat = animals.index(\"cat\")\n",
    "\n",
    "# Print the result\n",
    "print(\"Index of 'cat':\", index_of_cat)\n"
   ]
  },
  {
   "cell_type": "markdown",
   "id": "ff19bb0d",
   "metadata": {},
   "source": [
    "Q.15 Write a code to create a tuple containing three different fruits and check if \"kiwi\" is in it"
   ]
  },
  {
   "cell_type": "code",
   "execution_count": 15,
   "id": "759ba800",
   "metadata": {},
   "outputs": [
    {
     "name": "stdout",
     "output_type": "stream",
     "text": [
      "Is 'kiwi' in the tuple? False\n"
     ]
    }
   ],
   "source": [
    "# Create a tuple with three fruits\n",
    "fruits = (\"apple\", \"banana\", \"mango\")\n",
    "\n",
    "# Check if \"kiwi\" is in the tuple\n",
    "is_kiwi_present = \"kiwi\" in fruits\n",
    "\n",
    "# Print the result\n",
    "print(\"Is 'kiwi' in the tuple?\", is_kiwi_present)\n"
   ]
  },
  {
   "cell_type": "markdown",
   "id": "ba619cad",
   "metadata": {},
   "source": [
    "Q.16  Write a code to create a set with the elements 'a', 'b', 'c' and print it."
   ]
  },
  {
   "cell_type": "code",
   "execution_count": 16,
   "id": "1d32b12a",
   "metadata": {},
   "outputs": [
    {
     "name": "stdout",
     "output_type": "stream",
     "text": [
      "{'a', 'c', 'b'}\n"
     ]
    }
   ],
   "source": [
    "# Create a set\n",
    "letters = {'a', 'b', 'c'}\n",
    "\n",
    "# Print the set\n",
    "print(letters)\n"
   ]
  },
  {
   "cell_type": "markdown",
   "id": "cd877a2c",
   "metadata": {},
   "source": [
    "Q.17 Write a code to clear all elements from the set {1, 2, 3, 4, 5}."
   ]
  },
  {
   "cell_type": "code",
   "execution_count": 17,
   "id": "0f28abe2",
   "metadata": {},
   "outputs": [
    {
     "name": "stdout",
     "output_type": "stream",
     "text": [
      "set()\n"
     ]
    }
   ],
   "source": [
    "# Define the set\n",
    "numbers = {1, 2, 3, 4, 5}\n",
    "\n",
    "# Clear all elements\n",
    "numbers.clear()\n",
    "\n",
    "# Print the empty set\n",
    "print(numbers)\n"
   ]
  },
  {
   "cell_type": "markdown",
   "id": "ddf56a4d",
   "metadata": {},
   "source": [
    "Q.18  Write a code to remove the element 4 from the set {1, 2, 3, 4}."
   ]
  },
  {
   "cell_type": "code",
   "execution_count": 18,
   "id": "7b4c385a",
   "metadata": {},
   "outputs": [
    {
     "name": "stdout",
     "output_type": "stream",
     "text": [
      "{1, 2, 3}\n"
     ]
    }
   ],
   "source": [
    "# Define the set\n",
    "numbers = {1, 2, 3, 4}\n",
    "\n",
    "# Remove the element 4\n",
    "numbers.remove(4)\n",
    "\n",
    "# Print the updated set\n",
    "print(numbers)\n"
   ]
  },
  {
   "cell_type": "markdown",
   "id": "026a6872",
   "metadata": {},
   "source": [
    "Q.19  Write a code to find the union of two sets {1, 2, 3} and {3, 4, 5}"
   ]
  },
  {
   "cell_type": "code",
   "execution_count": 19,
   "id": "9002ddb5",
   "metadata": {},
   "outputs": [
    {
     "name": "stdout",
     "output_type": "stream",
     "text": [
      "{1, 2, 3, 4, 5}\n"
     ]
    }
   ],
   "source": [
    "# Define the sets\n",
    "set1 = {1, 2, 3}\n",
    "set2 = {3, 4, 5}\n",
    "\n",
    "# Find the union\n",
    "union_set = set1.union(set2)\n",
    "\n",
    "# Print the result\n",
    "print(union_set)\n"
   ]
  },
  {
   "cell_type": "markdown",
   "id": "6fab7e1d",
   "metadata": {},
   "source": [
    "Q.20 Write a code to find the intersection of two sets {1, 2, 3} and {2, 3, 4}."
   ]
  },
  {
   "cell_type": "code",
   "execution_count": 20,
   "id": "89d77c2e",
   "metadata": {},
   "outputs": [
    {
     "name": "stdout",
     "output_type": "stream",
     "text": [
      "{2, 3}\n"
     ]
    }
   ],
   "source": [
    "# Define the sets\n",
    "set1 = {1, 2, 3}\n",
    "set2 = {2, 3, 4}\n",
    "\n",
    "# Find the intersection\n",
    "intersection_set = set1.intersection(set2)\n",
    "\n",
    "# Print the result\n",
    "print(intersection_set)\n"
   ]
  },
  {
   "cell_type": "markdown",
   "id": "5ecd86c2",
   "metadata": {},
   "source": [
    "Q.21  Write a code to create a dictionary with the keys \"name\", \"age\", and \"city\", and print it."
   ]
  },
  {
   "cell_type": "code",
   "execution_count": 21,
   "id": "2601d2f0",
   "metadata": {},
   "outputs": [
    {
     "name": "stdout",
     "output_type": "stream",
     "text": [
      "{'name': 'Alice', 'age': 25, 'city': 'New York'}\n"
     ]
    }
   ],
   "source": [
    "# Create the dictionary\n",
    "person = {\n",
    "    \"name\": \"Alice\",\n",
    "    \"age\": 25,\n",
    "    \"city\": \"New York\"\n",
    "}\n",
    "\n",
    "# Print the dictionary\n",
    "print(person)\n"
   ]
  },
  {
   "cell_type": "markdown",
   "id": "2b5bc3b3",
   "metadata": {},
   "source": [
    "Q.22 Write a code to add a new key-value pair \"country\": \"USA\" to the dictionary {'name': 'John', 'age': 25}"
   ]
  },
  {
   "cell_type": "code",
   "execution_count": 22,
   "id": "2a6c308c",
   "metadata": {},
   "outputs": [
    {
     "name": "stdout",
     "output_type": "stream",
     "text": [
      "{'name': 'John', 'age': 25, 'country': 'USA'}\n"
     ]
    }
   ],
   "source": [
    "# Define the dictionary\n",
    "person = {'name': 'John', 'age': 25}\n",
    "\n",
    "# Add a new key-value pair\n",
    "person['country'] = 'USA'\n",
    "\n",
    "# Print the updated dictionary\n",
    "print(person)\n"
   ]
  },
  {
   "cell_type": "markdown",
   "id": "a8adf355",
   "metadata": {},
   "source": [
    "Q.23 . Write a code to access the value associated with the key \"name\" in the dictionary {'name': 'Alice', 'age': 30}"
   ]
  },
  {
   "cell_type": "code",
   "execution_count": 23,
   "id": "9ef76ad7",
   "metadata": {},
   "outputs": [
    {
     "name": "stdout",
     "output_type": "stream",
     "text": [
      "Alice\n"
     ]
    }
   ],
   "source": [
    "# Define the dictionary\n",
    "person = {'name': 'Alice', 'age': 30}\n",
    "\n",
    "# Access the value of the key \"name\"\n",
    "name_value = person['name']\n",
    "\n",
    "# Print the value\n",
    "print(name_value)\n"
   ]
  },
  {
   "cell_type": "markdown",
   "id": "e25ce587",
   "metadata": {},
   "source": [
    "Q.24  Write a code to remove the key \"age\" from the dictionary {'name': 'Bob', 'age': 22, 'city': 'New York'}."
   ]
  },
  {
   "cell_type": "code",
   "execution_count": 24,
   "id": "beb1f062",
   "metadata": {},
   "outputs": [
    {
     "name": "stdout",
     "output_type": "stream",
     "text": [
      "{'name': 'Bob', 'city': 'New York'}\n"
     ]
    }
   ],
   "source": [
    "# Define the dictionary\n",
    "person = {'name': 'Bob', 'age': 22, 'city': 'New York'}\n",
    "\n",
    "# Remove the key \"age\"\n",
    "person.pop('age')\n",
    "\n",
    "# Print the updated dictionary\n",
    "print(person)\n"
   ]
  },
  {
   "cell_type": "markdown",
   "id": "16275fa6",
   "metadata": {},
   "source": [
    "Q.25 Write a code to check if the key \"city\" exists in the dictionary {'name': 'Alice', 'city': 'Paris'}."
   ]
  },
  {
   "cell_type": "code",
   "execution_count": 25,
   "id": "b1fc1f7f",
   "metadata": {},
   "outputs": [
    {
     "name": "stdout",
     "output_type": "stream",
     "text": [
      "Does the key 'city' exist? True\n"
     ]
    }
   ],
   "source": [
    "# Define the dictionary\n",
    "person = {'name': 'Alice', 'city': 'Paris'}\n",
    "\n",
    "# Check if the key \"city\" exists\n",
    "key_exists = 'city' in person\n",
    "\n",
    "# Print the result\n",
    "print(\"Does the key 'city' exist?\", key_exists)\n"
   ]
  },
  {
   "cell_type": "markdown",
   "id": "d52e86ae",
   "metadata": {},
   "source": [
    "Q.26 Write a code to create a list, a tuple, and a dictionary, and print them all."
   ]
  },
  {
   "cell_type": "code",
   "execution_count": 26,
   "id": "2a47f4e6",
   "metadata": {},
   "outputs": [
    {
     "name": "stdout",
     "output_type": "stream",
     "text": [
      "List: [1, 2, 3]\n",
      "Tuple: (4, 5, 6)\n",
      "Dictionary: {'name': 'Alice', 'age': 25}\n"
     ]
    }
   ],
   "source": [
    "# Create a list\n",
    "my_list = [1, 2, 3]\n",
    "\n",
    "# Create a tuple\n",
    "my_tuple = (4, 5, 6)\n",
    "\n",
    "# Create a dictionary\n",
    "my_dict = {'name': 'Alice', 'age': 25}\n",
    "\n",
    "# Print all of them\n",
    "print(\"List:\", my_list)\n",
    "print(\"Tuple:\", my_tuple)\n",
    "print(\"Dictionary:\", my_dict)\n"
   ]
  },
  {
   "cell_type": "markdown",
   "id": "0e208ed9",
   "metadata": {},
   "source": [
    "Q.27  Write a code to create a list of 5 random numbers between 1 and 100, sort it in ascending order, and print the\n",
    "result.(replaced)"
   ]
  },
  {
   "cell_type": "code",
   "execution_count": 27,
   "id": "6dfadb84",
   "metadata": {},
   "outputs": [
    {
     "name": "stdout",
     "output_type": "stream",
     "text": [
      "Sorted random numbers: [29, 29, 71, 73, 81]\n"
     ]
    }
   ],
   "source": [
    "import random\n",
    "\n",
    "# Create a list of 5 random numbers between 1 and 100\n",
    "random_numbers = [random.randint(1, 100) for _ in range(5)]\n",
    "\n",
    "# Sort the list in ascending order\n",
    "random_numbers.sort()\n",
    "\n",
    "# Print the sorted list\n",
    "print(\"Sorted random numbers:\", random_numbers)\n"
   ]
  },
  {
   "cell_type": "markdown",
   "id": "2f5f7903",
   "metadata": {},
   "source": [
    "Q.28 Write a code to create a list with strings and print the element at the third index."
   ]
  },
  {
   "cell_type": "code",
   "execution_count": 28,
   "id": "69c96e1b",
   "metadata": {},
   "outputs": [
    {
     "name": "stdout",
     "output_type": "stream",
     "text": [
      "Element at index 3: date\n"
     ]
    }
   ],
   "source": [
    "# Create a list of strings\n",
    "fruits = [\"apple\", \"banana\", \"cherry\", \"date\", \"elderberry\"]\n",
    "\n",
    "# Access the element at the third index\n",
    "element_at_index_3 = fruits[3]\n",
    "\n",
    "# Print the element\n",
    "print(\"Element at index 3:\", element_at_index_3)\n"
   ]
  },
  {
   "cell_type": "markdown",
   "id": "40c7234c",
   "metadata": {},
   "source": [
    "Q.29 Write a code to combine two dictionaries into one and print the result."
   ]
  },
  {
   "cell_type": "code",
   "execution_count": 29,
   "id": "8f3a9b1a",
   "metadata": {},
   "outputs": [
    {
     "name": "stdout",
     "output_type": "stream",
     "text": [
      "Combined dictionary: {'name': 'Alice', 'age': 25, 'city': 'Paris', 'country': 'France'}\n"
     ]
    }
   ],
   "source": [
    "# Define two dictionaries\n",
    "dict1 = {'name': 'Alice', 'age': 25}\n",
    "dict2 = {'city': 'Paris', 'country': 'France'}\n",
    "\n",
    "# Combine the dictionaries\n",
    "combined_dict = {**dict1, **dict2}\n",
    "\n",
    "# Print the combined dictionary\n",
    "print(\"Combined dictionary:\", combined_dict)\n"
   ]
  },
  {
   "cell_type": "markdown",
   "id": "13bbd736",
   "metadata": {},
   "source": [
    "Q.30 Write a code to convert a list of strings into a set."
   ]
  },
  {
   "cell_type": "code",
   "execution_count": 30,
   "id": "fbcd11b1",
   "metadata": {},
   "outputs": [
    {
     "name": "stdout",
     "output_type": "stream",
     "text": [
      "Set of fruits: {'cherry', 'apple', 'banana'}\n"
     ]
    }
   ],
   "source": [
    "# Define a list of strings\n",
    "fruits_list = [\"apple\", \"banana\", \"cherry\", \"apple\", \"banana\"]\n",
    "\n",
    "# Convert the list into a set\n",
    "fruits_set = set(fruits_list)\n",
    "\n",
    "# Print the set\n",
    "print(\"Set of fruits:\", fruits_set)\n"
   ]
  }
 ],
 "metadata": {
  "kernelspec": {
   "display_name": "base",
   "language": "python",
   "name": "python3"
  },
  "language_info": {
   "codemirror_mode": {
    "name": "ipython",
    "version": 3
   },
   "file_extension": ".py",
   "mimetype": "text/x-python",
   "name": "python",
   "nbconvert_exporter": "python",
   "pygments_lexer": "ipython3",
   "version": "3.13.5"
  }
 },
 "nbformat": 4,
 "nbformat_minor": 5
}
